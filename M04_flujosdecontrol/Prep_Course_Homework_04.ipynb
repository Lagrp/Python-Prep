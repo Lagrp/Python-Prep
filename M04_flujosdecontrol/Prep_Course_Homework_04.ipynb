{
 "cells": [
  {
   "attachments": {},
   "cell_type": "markdown",
   "metadata": {},
   "source": [
    "## Flujos de Control"
   ]
  },
  {
   "attachments": {},
   "cell_type": "markdown",
   "metadata": {},
   "source": [
    "1) Crear una variable que contenga un elemento del conjunto de números enteros y luego imprimir por pantalla si es mayor o menor a cero"
   ]
  },
  {
   "cell_type": "code",
   "execution_count": 2,
   "metadata": {},
   "outputs": [
    {
     "name": "stdout",
     "output_type": "stream",
     "text": [
      "-5 es menor que cero\n",
      "-4 es menor que cero\n",
      "-3 es menor que cero\n",
      "-2 es menor que cero\n",
      "-1 es menor que cero\n",
      "0 es cero\n",
      "1 es mayor que cero\n",
      "2 es mayor que cero\n",
      "3 es mayor que cero\n",
      "4 es mayor que cero\n",
      "5 es mayor que cero\n"
     ]
    }
   ],
   "source": [
    "numeros=[-5,-4,-3,-2,-1,0,1,2,3,4,5]\n",
    "\n",
    "for num in numeros:\n",
    "    if num>0:\n",
    "        print(num, \"es mayor que cero\")\n",
    "    elif num<0:\n",
    "        print(num, \"es menor que cero\")\n",
    "    else:\n",
    "        print(num,\"es cero\")"
   ]
  },
  {
   "attachments": {},
   "cell_type": "markdown",
   "metadata": {},
   "source": [
    "2) Crear dos variables y un condicional que informe si son del mismo tipo de dato"
   ]
  },
  {
   "cell_type": "code",
   "execution_count": 4,
   "metadata": {},
   "outputs": [
    {
     "name": "stdout",
     "output_type": "stream",
     "text": [
      "las variables son del ismo tipo de dato <class 'str'>\n"
     ]
    }
   ],
   "source": [
    "var1= 'Hola'\n",
    "var2='0'\n",
    "\n",
    "if type(var1)== type(var2):\n",
    "    print(\"las variables son del ismo tipo de dato\", type(var1))\n",
    "else:\n",
    "    print(\"Las variables son de distinto tipo de dato\")"
   ]
  },
  {
   "attachments": {},
   "cell_type": "markdown",
   "metadata": {},
   "source": [
    "3) Para los valores enteros del 1 al 20, imprimir por pantalla si es par o impar"
   ]
  },
  {
   "cell_type": "code",
   "execution_count": 15,
   "metadata": {},
   "outputs": [
    {
     "name": "stdout",
     "output_type": "stream",
     "text": [
      "2  es par\n",
      "3  es impar\n",
      "4  es par\n",
      "6  es par\n",
      "8  es par\n",
      "9  es impar\n",
      "10  es par\n",
      "12  es par\n",
      "14  es par\n",
      "15  es impar\n",
      "16  es par\n",
      "18  es par\n",
      "20  es par\n"
     ]
    }
   ],
   "source": [
    "\n",
    "for num in range(1,21):\n",
    "    if num % 2 ==0:\n",
    "        print(num,\" es par\")\n",
    "    elif num % 3==0:\n",
    "        print(num, \" es impar\")"
   ]
  },
  {
   "attachments": {},
   "cell_type": "markdown",
   "metadata": {},
   "source": [
    "4) En un ciclo for mostrar para los valores entre 0 y 5 el resultado de elevarlo a la potencia igual a 3"
   ]
  },
  {
   "cell_type": "code",
   "execution_count": 12,
   "metadata": {},
   "outputs": [
    {
     "name": "stdout",
     "output_type": "stream",
     "text": [
      "el valor de 1 elevado a la potencia 3 es igual a 1\n",
      "el valor de 2 elevado a la potencia 3 es igual a 8\n",
      "el valor de 3 elevado a la potencia 3 es igual a 27\n",
      "el valor de 4 elevado a la potencia 3 es igual a 64\n",
      "el valor de 5 elevado a la potencia 3 es igual a 125\n"
     ]
    }
   ],
   "source": [
    "for num in range(1,6):\n",
    "    print(f\"el valor de {num} elevado a la potencia 3 es igual a {num**3}\")"
   ]
  },
  {
   "attachments": {},
   "cell_type": "markdown",
   "metadata": {},
   "source": [
    "5) Crear una variable que contenga un número entero y realizar un ciclo for la misma cantidad de ciclos"
   ]
  },
  {
   "cell_type": "code",
   "execution_count": 18,
   "metadata": {},
   "outputs": [
    {
     "name": "stdout",
     "output_type": "stream",
     "text": [
      "ciclo  1\n",
      "ciclo  2\n",
      "ciclo  3\n",
      "ciclo  4\n"
     ]
    }
   ],
   "source": [
    "var1=4\n",
    "for x in range(1,var1+1):\n",
    "    print(\"ciclo \", x)"
   ]
  },
  {
   "attachments": {},
   "cell_type": "markdown",
   "metadata": {},
   "source": [
    "6) Utilizar un ciclo while para realizar el factorial de un número guardado en una variable, sólo si la variable contiene un número entero mayor a 0"
   ]
  },
  {
   "cell_type": "code",
   "execution_count": 23,
   "metadata": {},
   "outputs": [
    {
     "name": "stdout",
     "output_type": "stream",
     "text": [
      "el factorial de 5 es 120\n"
     ]
    }
   ],
   "source": [
    "n=5\n",
    "numini=n\n",
    "if type(n)== int:\n",
    "    if n>0:\n",
    "        factorial= n\n",
    "        while n>2:\n",
    "            n=n-1\n",
    "            factorial=factorial*n\n",
    "        print(f\"el factorial de {numini} es {factorial}\")\n",
    "    else:\n",
    "        print(\"el numero es 0\")\n",
    "else:\n",
    "    print(\"el numero no es entero\")"
   ]
  },
  {
   "attachments": {},
   "cell_type": "markdown",
   "metadata": {},
   "source": [
    "7) Crear un ciclo for dentro de un ciclo while"
   ]
  },
  {
   "cell_type": "code",
   "execution_count": null,
   "metadata": {},
   "outputs": [],
   "source": [
    "n=1\n",
    "while n<=5:\n",
    "    print(\"ciclo while\",n)\n",
    "    for i in range(1, n+1):\n",
    "        print(\"ciclo for\", i)\n",
    "    n=n+1"
   ]
  },
  {
   "attachments": {},
   "cell_type": "markdown",
   "metadata": {},
   "source": [
    "8) Crear un ciclo while dentro de un ciclo for"
   ]
  },
  {
   "cell_type": "code",
   "execution_count": 1,
   "metadata": {},
   "outputs": [
    {
     "name": "stdout",
     "output_type": "stream",
     "text": [
      "ciclo for  1\n",
      "ciclo while  1\n",
      "ciclo for  2\n",
      "ciclo while  1\n",
      "ciclo while  2\n",
      "ciclo for  3\n",
      "ciclo while  1\n",
      "ciclo while  2\n",
      "ciclo while  3\n",
      "ciclo for  4\n",
      "ciclo while  1\n",
      "ciclo while  2\n",
      "ciclo while  3\n",
      "ciclo while  4\n",
      "ciclo for  5\n",
      "ciclo while  1\n",
      "ciclo while  2\n",
      "ciclo while  3\n",
      "ciclo while  4\n",
      "ciclo while  5\n"
     ]
    }
   ],
   "source": [
    "n=5\n",
    "for i in range(1,n+1):\n",
    "    print(\"ciclo for \", i)\n",
    "    x=0\n",
    "    while x<i:\n",
    "        x+=1\n",
    "        print(\"ciclo while \", x)\n"
   ]
  },
  {
   "attachments": {},
   "cell_type": "markdown",
   "metadata": {},
   "source": [
    "9) Imprimir los números primos existentes entre 0 y 30"
   ]
  },
  {
   "cell_type": "code",
   "execution_count": 37,
   "metadata": {},
   "outputs": [
    {
     "name": "stdout",
     "output_type": "stream",
     "text": [
      "0  Es primo\n",
      "1  Es primo\n",
      "2  Es primo\n",
      "3  Es primo\n",
      "5  Es primo\n",
      "7  Es primo\n",
      "11  Es primo\n",
      "13  Es primo\n",
      "17  Es primo\n",
      "19  Es primo\n",
      "23  Es primo\n",
      "29  Es primo\n"
     ]
    }
   ],
   "source": [
    "ciclos_sin_break=0\n",
    "primo=True\n",
    "for num in range(0,31):\n",
    "    for n in range(2, num):\n",
    "        ciclos_sin_break+=1\n",
    "        if (num % n == 0):\n",
    "            primo=False\n",
    "    if (primo):\n",
    "        print(num,\" Es primo\")\n",
    "    else:\n",
    "        primo=True\n",
    "                    \n",
    "    \n"
   ]
  },
  {
   "attachments": {},
   "cell_type": "markdown",
   "metadata": {},
   "source": [
    "10) ¿Se puede mejorar el proceso del punto 9? Utilizar las sentencias break y/ó continue para tal fin"
   ]
  },
  {
   "cell_type": "code",
   "execution_count": 38,
   "metadata": {},
   "outputs": [
    {
     "name": "stdout",
     "output_type": "stream",
     "text": [
      "0  Es primo\n",
      "1  Es primo\n",
      "2  Es primo\n",
      "3  Es primo\n",
      "5  Es primo\n",
      "7  Es primo\n",
      "11  Es primo\n",
      "13  Es primo\n",
      "17  Es primo\n",
      "19  Es primo\n",
      "23  Es primo\n",
      "29  Es primo\n"
     ]
    }
   ],
   "source": [
    "primo=True\n",
    "ciclos_con_break=0\n",
    "for num in range(0,31):\n",
    "    for n in range(2, num):\n",
    "        ciclos_con_break+=1\n",
    "        if (num % n == 0):\n",
    "            primo=False\n",
    "            break\n",
    "    if (primo):\n",
    "        print(num,\" Es primo\")\n",
    "    else:\n",
    "        primo=True\n",
    "                    "
   ]
  },
  {
   "attachments": {},
   "cell_type": "markdown",
   "metadata": {},
   "source": [
    "11) En los puntos 9 y 10, se diseño un código que encuentra números primos y además se lo optimizó. ¿Es posible saber en qué medida se optimizó?"
   ]
  },
  {
   "cell_type": "code",
   "execution_count": 39,
   "metadata": {},
   "outputs": [
    {
     "name": "stdout",
     "output_type": "stream",
     "text": [
      "se utilizaron 406 ciclos sin break\n",
      "se utilizaron 135 ciclos con break\n"
     ]
    }
   ],
   "source": [
    "print(f\"se utilizaron {ciclos_sin_break} ciclos sin break\")\n",
    "print(f\"se utilizaron {ciclos_con_break} ciclos con break\")\n",
    "\n"
   ]
  },
  {
   "attachments": {},
   "cell_type": "markdown",
   "metadata": {},
   "source": [
    "12) Aplicando continue, armar un ciclo while que solo imprima los valores divisibles por 12, dentro del rango de números de 100 a 300"
   ]
  },
  {
   "cell_type": "code",
   "execution_count": 40,
   "metadata": {},
   "outputs": [
    {
     "name": "stdout",
     "output_type": "stream",
     "text": [
      "108\n",
      "120\n",
      "132\n",
      "144\n",
      "156\n",
      "168\n",
      "180\n",
      "192\n",
      "204\n",
      "216\n",
      "228\n",
      "240\n",
      "252\n",
      "264\n",
      "276\n",
      "288\n",
      "300\n"
     ]
    }
   ],
   "source": [
    "n=100\n",
    "\n",
    "while n<=300:\n",
    "    if(n%12==0):\n",
    "        print(n)\n",
    "    n+=1"
   ]
  },
  {
   "attachments": {},
   "cell_type": "markdown",
   "metadata": {},
   "source": [
    "13) Utilizar la función **input()** que permite hacer ingresos por teclado, para encontrar números primos y dar la opción al usario de buscar el siguiente"
   ]
  },
  {
   "cell_type": "code",
   "execution_count": 47,
   "metadata": {},
   "outputs": [
    {
     "name": "stdout",
     "output_type": "stream",
     "text": [
      "7  Es primo\n",
      "5  Es primo\n"
     ]
    }
   ],
   "source": [
    "\n",
    "\n",
    "salida=False\n",
    "primo=True\n",
    "while salida==False:\n",
    "    num=int(input(\"ingrese un numero\"))\n",
    "    for n in range(2, num):\n",
    "        if (num % n == 0):\n",
    "            primo=False\n",
    "            break\n",
    "    if (primo):\n",
    "        print(num,\" Es primo\")\n",
    "    else:\n",
    "        primo=True\n",
    "    siguiente=input(\"buscar otro S/N\")\n",
    "    if(siguiente=='N' or siguiente=='n'):\n",
    "        salida=True\n",
    "    "
   ]
  },
  {
   "attachments": {},
   "cell_type": "markdown",
   "metadata": {},
   "source": [
    "14) Crear un ciclo while que encuentre dentro del rango de 100 a 300 el primer número divisible por 3 y además múltiplo de 6"
   ]
  },
  {
   "cell_type": "code",
   "execution_count": 48,
   "metadata": {},
   "outputs": [
    {
     "name": "stdout",
     "output_type": "stream",
     "text": [
      "102\n"
     ]
    }
   ],
   "source": [
    "n = 100\n",
    "while(n<=300):\n",
    "    if (n % 6 == 0):\n",
    "        print(n)\n",
    "        break\n",
    "    n += 1"
   ]
  }
 ],
 "metadata": {
  "interpreter": {
   "hash": "c85384e4cb51c8b72350f3a8712cc8351fdc3955e32a27f9b60c6242ab125f01"
  },
  "kernelspec": {
   "display_name": "Python 3 (ipykernel)",
   "language": "python",
   "name": "python3"
  },
  "language_info": {
   "codemirror_mode": {
    "name": "ipython",
    "version": 3
   },
   "file_extension": ".py",
   "mimetype": "text/x-python",
   "name": "python",
   "nbconvert_exporter": "python",
   "pygments_lexer": "ipython3",
   "version": "3.10.6"
  }
 },
 "nbformat": 4,
 "nbformat_minor": 4
}
