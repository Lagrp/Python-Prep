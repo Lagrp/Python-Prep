{
 "cells": [
  {
   "cell_type": "code",
   "execution_count": 28,
   "metadata": {},
   "outputs": [],
   "source": [
    "import mimodulo\n",
    "\n",
    "class Gato:\n",
    "    def __init__(self, nombre, edad,raza,sexo):\n",
    "        self.nombre=nombre\n",
    "        self.edad=edad\n",
    "        self.raza=raza\n",
    "        self.sexo=sexo\n",
    "#Metodo presentar\n",
    "\n",
    "    def presentar(self):\n",
    "        print(\"Mi Nombre: \", self.nombre)\n",
    "        print(\"Edad: \", self.edad,\"años\")\n",
    "        print(\"Raza: \", self.raza)\n",
    "        print(\"Sexo: \", self.sexo)\n",
    "    "
   ]
  },
  {
   "cell_type": "code",
   "execution_count": 9,
   "metadata": {},
   "outputs": [],
   "source": [
    "gato1=Gato('Pompon',2,'Siames','Macho')"
   ]
  },
  {
   "cell_type": "code",
   "execution_count": 15,
   "metadata": {},
   "outputs": [
    {
     "name": "stdout",
     "output_type": "stream",
     "text": [
      "Nombre: Pompon Edad:  2 Raza:  Siames Sexo Macho\n"
     ]
    }
   ],
   "source": [
    "gato1.presentar()\n"
   ]
  },
  {
   "cell_type": "code",
   "execution_count": 16,
   "metadata": {},
   "outputs": [],
   "source": [
    "class CuantaBancaria:\n",
    "    def __init__(self,saldo):\n",
    "        self.__saldo=saldo\n",
    "    def depositar(self, monto):\n",
    "        self.__saldo +=monto\n",
    "    def retirar(self, monto):\n",
    "        if self.__saldo>=monto:\n",
    "            self.__saldo-=monto\n",
    "        else:\n",
    "            print('Saldo insuficiente')\n",
    "    def obtener_saldo(self):\n",
    "        return self.__saldo\n"
   ]
  },
  {
   "cell_type": "code",
   "execution_count": 8,
   "metadata": {},
   "outputs": [],
   "source": [
    "class Animal:\n",
    "    def __init__(self, especie, edad, color):\n",
    "        self.especie = especie\n",
    "        self.edad = edad\n",
    "        self.color = color\n",
    "    def mePresento(self):\n",
    "        print('Hola, soy ', self.especie, ', de color', self.color, ' y tengo ', self.edad, ' años')\n",
    "    def cumplirAños(self):\n",
    "        self.edad = self.edad + 1\n",
    "    #Metodo genérico pero con implemtacion particular\n",
    "    def hablar(self):\n",
    "        #Metodo vacio\n",
    "        pass\n",
    "\n",
    "    #Metodo genérico pero con implemtacion particular\n",
    "    def moverse(Self):\n",
    "        #Metodo vacio\n",
    "        pass\n",
    "    \n",
    "    #Metodo genérico pero con implemtacion particular\n",
    "    def describeme(Self):\n",
    "        print(f'Soy un animal del tipo {type(Self).__name__} y color {Self.color}')\n",
    "        \n",
    "    "
   ]
  },
  {
   "cell_type": "code",
   "execution_count": 3,
   "metadata": {},
   "outputs": [],
   "source": [
    "a1=Animal('Raton',2,'Marron')\n",
    "a2=Animal('Liebre',3,'Gris')"
   ]
  },
  {
   "cell_type": "code",
   "execution_count": 4,
   "metadata": {},
   "outputs": [
    {
     "name": "stdout",
     "output_type": "stream",
     "text": [
      "Raton\n",
      "2\n",
      "Liebre\n",
      "3\n"
     ]
    }
   ],
   "source": [
    "print(a1.especie)\n",
    "print(a1.edad)\n",
    "print(a2.especie)\n",
    "print(a2.edad)"
   ]
  },
  {
   "cell_type": "code",
   "execution_count": 5,
   "metadata": {},
   "outputs": [
    {
     "name": "stdout",
     "output_type": "stream",
     "text": [
      "Hola, soy  Raton , de color Marron  y tengo  2  años\n",
      "Hola, soy  Liebre , de color Gris  y tengo  3  años\n"
     ]
    }
   ],
   "source": [
    "a1.mePresento()\n",
    "a2.mePresento()"
   ]
  },
  {
   "cell_type": "code",
   "execution_count": 22,
   "metadata": {},
   "outputs": [],
   "source": [
    "a1.cumplirAños()\n",
    "a2.cumplirAños()"
   ]
  },
  {
   "cell_type": "code",
   "execution_count": 23,
   "metadata": {},
   "outputs": [
    {
     "name": "stdout",
     "output_type": "stream",
     "text": [
      "Hola, soy  Raton , de color Marron  y tengo  3  años\n",
      "Hola, soy  Liebre , de color Gris  y tengo  4  años\n"
     ]
    }
   ],
   "source": [
    "a1.mePresento()\n",
    "a2.mePresento()"
   ]
  },
  {
   "cell_type": "code",
   "execution_count": 12,
   "metadata": {},
   "outputs": [],
   "source": [
    "#Perro hereda de animal\n",
    "class Perro(Animal):\n",
    "    def hablar(self):\n",
    "        print('guau!')\n",
    "    def moverse(Self):\n",
    "        print('Caminando con 4 patas')"
   ]
  },
  {
   "cell_type": "code",
   "execution_count": 11,
   "metadata": {},
   "outputs": [
    {
     "name": "stdout",
     "output_type": "stream",
     "text": [
      "Soy un animal del tipoPerro y color blanco\n"
     ]
    }
   ],
   "source": [
    "mi_perro=Perro('mamifero',10,'blanco')\n",
    "mi_perro.describeme()"
   ]
  },
  {
   "cell_type": "code",
   "execution_count": 9,
   "metadata": {},
   "outputs": [],
   "source": [
    "class Vaca(Animal):\n",
    "    def hablar(self):\n",
    "        print('Muuu!')\n",
    "    def moverse(self):\n",
    "        print('Caminando con 4 patas')\n"
   ]
  },
  {
   "cell_type": "code",
   "execution_count": 15,
   "metadata": {},
   "outputs": [],
   "source": [
    "class Abeja(Animal):\n",
    "    def hablar(self):\n",
    "        print('Bzzzz!')\n",
    "    def moverse(Self):\n",
    "        print('volando')\n",
    "    \n",
    "    #Nuevo metodo\n",
    "    def picar(self):\n",
    "        print('Picar!')"
   ]
  },
  {
   "cell_type": "code",
   "execution_count": 16,
   "metadata": {},
   "outputs": [],
   "source": [
    "mi_perro=Perro('Mamifero',10,'blanco')\n",
    "mi_vaca=Vaca('Mamifero',23, 'pinta')\n",
    "mi_abeja=Abeja('imsecto',1,'amarillo-negro')"
   ]
  },
  {
   "cell_type": "code",
   "execution_count": 17,
   "metadata": {},
   "outputs": [
    {
     "name": "stdout",
     "output_type": "stream",
     "text": [
      "Muuu!\n"
     ]
    }
   ],
   "source": [
    "mi_vaca.hablar()"
   ]
  },
  {
   "cell_type": "code",
   "execution_count": 18,
   "metadata": {},
   "outputs": [
    {
     "name": "stdout",
     "output_type": "stream",
     "text": [
      "Soy un animal del tipo Abeja y color amarillo-negro\n"
     ]
    }
   ],
   "source": [
    "mi_abeja.describeme()"
   ]
  },
  {
   "cell_type": "code",
   "execution_count": 19,
   "metadata": {},
   "outputs": [
    {
     "name": "stdout",
     "output_type": "stream",
     "text": [
      "Picar!\n"
     ]
    }
   ],
   "source": [
    "mi_abeja.picar()"
   ]
  },
  {
   "cell_type": "code",
   "execution_count": 25,
   "metadata": {},
   "outputs": [
    {
     "name": "stdout",
     "output_type": "stream",
     "text": [
      "4.0\n"
     ]
    }
   ],
   "source": [
    "import math\n",
    "\n",
    "x=16\n",
    "raiz_cuadrada=math.sqrt(x)\n",
    "print(raiz_cuadrada)"
   ]
  },
  {
   "cell_type": "code",
   "execution_count": 31,
   "metadata": {},
   "outputs": [
    {
     "data": {
      "text/plain": [
       "5"
      ]
     },
     "execution_count": 31,
     "metadata": {},
     "output_type": "execute_result"
    }
   ],
   "source": [
    "import tumodulo\n",
    "\n",
    "tumodulo.suma(2,3)\n"
   ]
  },
  {
   "cell_type": "code",
   "execution_count": 34,
   "metadata": {},
   "outputs": [
    {
     "name": "stdout",
     "output_type": "stream",
     "text": [
      "7\n"
     ]
    }
   ],
   "source": [
    "from tumodulo import suma\n",
    "\n",
    "print(suma(3,4))"
   ]
  }
 ],
 "metadata": {
  "kernelspec": {
   "display_name": "Python 3",
   "language": "python",
   "name": "python3"
  },
  "language_info": {
   "codemirror_mode": {
    "name": "ipython",
    "version": 3
   },
   "file_extension": ".py",
   "mimetype": "text/x-python",
   "name": "python",
   "nbconvert_exporter": "python",
   "pygments_lexer": "ipython3",
   "version": "3.11.5"
  },
  "orig_nbformat": 4
 },
 "nbformat": 4,
 "nbformat_minor": 2
}
