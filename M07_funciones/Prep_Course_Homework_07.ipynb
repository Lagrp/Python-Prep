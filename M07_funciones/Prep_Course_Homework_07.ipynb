{
 "cells": [
  {
   "attachments": {},
   "cell_type": "markdown",
   "metadata": {},
   "source": [
    "## Funciones"
   ]
  },
  {
   "attachments": {},
   "cell_type": "markdown",
   "metadata": {},
   "source": [
    "1) Crear una función que reciba un número como parámetro y devuelva True si es primo y False si no lo es"
   ]
  },
  {
   "cell_type": "code",
   "execution_count": 1,
   "metadata": {},
   "outputs": [],
   "source": [
    "def es_primo(numero):\n",
    "    primo=True \n",
    "    for n in range(2, numero):\n",
    "        if (numero % n == 0):\n",
    "            primo=False\n",
    "            break\n",
    "    return primo  "
   ]
  },
  {
   "cell_type": "code",
   "execution_count": 13,
   "metadata": {},
   "outputs": [
    {
     "data": {
      "text/plain": [
       "True"
      ]
     },
     "execution_count": 13,
     "metadata": {},
     "output_type": "execute_result"
    }
   ],
   "source": [
    "es_primo(2)"
   ]
  },
  {
   "attachments": {},
   "cell_type": "markdown",
   "metadata": {},
   "source": [
    "2) Utilizando la función del punto 1, realizar otra función que reciba de parámetro una lista de números y devuelva sólo aquellos que son primos en otra lista"
   ]
  },
  {
   "cell_type": "code",
   "execution_count": 2,
   "metadata": {},
   "outputs": [],
   "source": [
    "def lista_primos(lista):\n",
    "    listaPrimos=[]\n",
    "    for n in lista:\n",
    "        if es_primo(int(n)):\n",
    "            listaPrimos.append(n)\n",
    "    return listaPrimos"
   ]
  },
  {
   "cell_type": "code",
   "execution_count": 3,
   "metadata": {},
   "outputs": [
    {
     "name": "stdout",
     "output_type": "stream",
     "text": [
      "[1, 2, 3, 5, 7]\n"
     ]
    }
   ],
   "source": [
    "lista=[1,2,3,4,5,6,7]\n",
    "\n",
    "print(lista_primos(lista))"
   ]
  },
  {
   "attachments": {},
   "cell_type": "markdown",
   "metadata": {},
   "source": [
    "3) Crear una función que al recibir una lista de números, devuelva el que más se repite y cuántas veces lo hace. Si hay más de un \"más repetido\", que devuelva cualquiera"
   ]
  },
  {
   "cell_type": "code",
   "execution_count": 1,
   "metadata": {},
   "outputs": [],
   "source": [
    "def valor_modal(lista):\n",
    "    lista_unicos = []\n",
    "    lista_repeticiones = []\n",
    "    if len(lista) == 0:\n",
    "        return None\n",
    "    for elemento in lista:\n",
    "        if elemento in lista_unicos:\n",
    "            i = lista_unicos.index(elemento)\n",
    "            lista_repeticiones[i] += 1\n",
    "        else:\n",
    "            lista_unicos.append(elemento)\n",
    "            lista_repeticiones.append(1)\n",
    "    moda = lista_unicos[0]\n",
    "    maximo = lista_repeticiones[0]\n",
    "    for i, elemento in enumerate(lista_unicos):\n",
    "        if lista_repeticiones[i] > maximo:\n",
    "            moda = lista_unicos[i]\n",
    "            maximo = lista_repeticiones[i]\n",
    "    return moda, maximo"
   ]
  },
  {
   "cell_type": "code",
   "execution_count": 2,
   "metadata": {},
   "outputs": [
    {
     "name": "stdout",
     "output_type": "stream",
     "text": [
      "(5, 3)\n"
     ]
    }
   ],
   "source": [
    "lis = [1,1,5,6,8,10,22,5,6,4,11,9,5]\n",
    "print(valor_modal(lis))"
   ]
  },
  {
   "attachments": {},
   "cell_type": "markdown",
   "metadata": {},
   "source": [
    "4) Crear una función que convierta entre grados Celsius, Farenheit y Kelvin<br>\n",
    "Fórmula 1\t: (°C × 9/5) + 32 = °F<br>\n",
    "Fórmula 2\t: °C + 273.15 = °K<br>\n",
    "Debe recibir 3 parámetros: el valor, la medida de orígen y la medida de destino\n"
   ]
  },
  {
   "cell_type": "code",
   "execution_count": 15,
   "metadata": {},
   "outputs": [],
   "source": [
    "def converidor_temperatura(valor, origen, destino):\n",
    "    if destino==origen:\n",
    "        return valor\n",
    "    if origen == \"Celsius\":\n",
    "        if destino==\"Farenheit\":\n",
    "            return (valor*9/5)+32\n",
    "        elif destino==\"Kelvin\":\n",
    "            return valor+273.15\n",
    "        else:\n",
    "            return \"origen incorrecto\"\n",
    "    elif origen==\"Farenheit\":\n",
    "        if destino==\"Celsius\":\n",
    "            return (valor - 32) * 5 / 9\n",
    "        elif destino==\"Kelvin\":\n",
    "            return ((valor - 32) * 5 / 9) + 273.15\n",
    "        else:\n",
    "            return \"origen incorrecto\"\n",
    "    elif origen==\"Kelvin\":\n",
    "        if destino==\"Celsius\":\n",
    "            return valor - 273.15 \n",
    "        elif destino==\"Farenheit\":\n",
    "            return ((valor - 273.15) * 9 / 5) + 32\n",
    "        else:\n",
    "            return \"destino incorrecto\"\n",
    "    else:\n",
    "       return \"origen incorrecto\""
   ]
  },
  {
   "cell_type": "code",
   "execution_count": 11,
   "metadata": {},
   "outputs": [
    {
     "name": "stdout",
     "output_type": "stream",
     "text": [
      "68.0\n"
     ]
    }
   ],
   "source": [
    "print(converidor_temperatura(20,\"Celsius\", \"Farenheit\"))"
   ]
  },
  {
   "attachments": {},
   "cell_type": "markdown",
   "metadata": {},
   "source": [
    "5) Iterando una lista con los tres valores posibles de temperatura que recibe la función del punto 5, hacer un print para cada combinación de los mismos:"
   ]
  },
  {
   "cell_type": "code",
   "execution_count": 16,
   "metadata": {},
   "outputs": [
    {
     "name": "stdout",
     "output_type": "stream",
     "text": [
      "1 grado(s) Celsius es igual 1 grados Celsius\n",
      "1 grado(s) Celsius es igual 274.15 grados Kelvin\n",
      "1 grado(s) Celsius es igual 33.8 grados Farenheit\n",
      "1 grado(s) Kelvin es igual -272.15 grados Celsius\n",
      "1 grado(s) Kelvin es igual 1 grados Kelvin\n",
      "1 grado(s) Kelvin es igual -457.87 grados Farenheit\n",
      "1 grado(s) Farenheit es igual -17.22222222222222 grados Celsius\n",
      "1 grado(s) Farenheit es igual 255.92777777777775 grados Kelvin\n",
      "1 grado(s) Farenheit es igual 1 grados Farenheit\n"
     ]
    }
   ],
   "source": [
    "lista_temp=['Celsius', 'Kelvin', 'Farenheit']\n",
    "\n",
    "valor_temp=1\n",
    "\n",
    "for x in range(0,3):\n",
    "    for y in range(0,3):\n",
    "        print(f\"{valor_temp} grado(s) {lista_temp[x]} es igual {converidor_temperatura(valor_temp,lista_temp[x],lista_temp[y])} grados {lista_temp[y]}\")\n",
    "\n"
   ]
  },
  {
   "attachments": {},
   "cell_type": "markdown",
   "metadata": {},
   "source": [
    "6) Armar una función que devuelva el factorial de un número. Tener en cuenta que el usuario puede equivocarse y enviar de parámetro un número no entero o negativo"
   ]
  },
  {
   "cell_type": "code",
   "execution_count": 35,
   "metadata": {},
   "outputs": [],
   "source": [
    "def factorial(numero):\n",
    "    if type(numero) != int:\n",
    "        return print(\"ingresar solo números enteros\")\n",
    "    if (numero<0):\n",
    "        return print(\"el numero no puede ser menor que 0\")\n",
    "    if (numero>1):\n",
    "        numero=numero*factorial(numero-1)  \n",
    "    return numero "
   ]
  },
  {
   "cell_type": "code",
   "execution_count": 36,
   "metadata": {},
   "outputs": [
    {
     "data": {
      "text/plain": [
       "120"
      ]
     },
     "execution_count": 36,
     "metadata": {},
     "output_type": "execute_result"
    }
   ],
   "source": [
    "factorial(5)"
   ]
  }
 ],
 "metadata": {
  "interpreter": {
   "hash": "c85384e4cb51c8b72350f3a8712cc8351fdc3955e32a27f9b60c6242ab125f01"
  },
  "kernelspec": {
   "display_name": "Python 3 (ipykernel)",
   "language": "python",
   "name": "python3"
  },
  "language_info": {
   "codemirror_mode": {
    "name": "ipython",
    "version": 3
   },
   "file_extension": ".py",
   "mimetype": "text/x-python",
   "name": "python",
   "nbconvert_exporter": "python",
   "pygments_lexer": "ipython3",
   "version": "3.11.5"
  }
 },
 "nbformat": 4,
 "nbformat_minor": 4
}
