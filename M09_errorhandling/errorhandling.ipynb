{
 "cells": [
  {
   "cell_type": "code",
   "execution_count": 7,
   "metadata": {},
   "outputs": [],
   "source": [
    "import unittest"
   ]
  },
  {
   "cell_type": "code",
   "execution_count": 8,
   "metadata": {},
   "outputs": [],
   "source": [
    "def suma(num_1,num_2):\n",
    "    return num_1+num_2"
   ]
  },
  {
   "cell_type": "code",
   "execution_count": 19,
   "metadata": {},
   "outputs": [],
   "source": [
    "class CajaNegraTest(unittest.TestCase):\n",
    "\n",
    "    def test_suma_dos_positivos(self):\n",
    "        num_1=10\n",
    "        num_2=5\n",
    "\n",
    "        resultado=suma(num_1,num_2)\n",
    "        self.assertEqual(resultado,15)\n",
    "\n",
    "    def test_suma_dos_negativos(self):\n",
    "        num_1= -10\n",
    "        num_2= -7\n",
    "        resultado=suma(num_1, num_2)\n",
    "        self.assertEqual(resultado, -17)\n"
   ]
  },
  {
   "cell_type": "code",
   "execution_count": 21,
   "metadata": {},
   "outputs": [
    {
     "name": "stderr",
     "output_type": "stream",
     "text": [
      "test_suma_dos_negativos (__main__.CajaNegraTest.test_suma_dos_negativos) ... ok\n",
      "test_suma_dos_positivos (__main__.CajaNegraTest.test_suma_dos_positivos) ... ok\n",
      "\n",
      "----------------------------------------------------------------------\n",
      "Ran 2 tests in 0.002s\n",
      "\n",
      "OK\n"
     ]
    },
    {
     "ename": "NameError",
     "evalue": "name 'test_suma_dos_positivos' is not defined",
     "output_type": "error",
     "traceback": [
      "\u001b[1;31m---------------------------------------------------------------------------\u001b[0m",
      "\u001b[1;31mNameError\u001b[0m                                 Traceback (most recent call last)",
      "\u001b[1;32md:\\Documents\\LAGRP Soft\\Python\\Python-Prep\\M09_errorhandling\\errorhandling.ipynb Cell 4\u001b[0m line \u001b[0;36m2\n\u001b[0;32m      <a href='vscode-notebook-cell:/d%3A/Documents/LAGRP%20Soft/Python/Python-Prep/M09_errorhandling/errorhandling.ipynb#W3sZmlsZQ%3D%3D?line=0'>1</a>\u001b[0m unittest\u001b[39m.\u001b[39mmain(argv\u001b[39m=\u001b[39m[\u001b[39m\"\u001b[39m\u001b[39m\"\u001b[39m],verbosity\u001b[39m=\u001b[39m\u001b[39m2\u001b[39m,exit\u001b[39m=\u001b[39m\u001b[39mFalse\u001b[39;00m)\n\u001b[1;32m----> <a href='vscode-notebook-cell:/d%3A/Documents/LAGRP%20Soft/Python/Python-Prep/M09_errorhandling/errorhandling.ipynb#W3sZmlsZQ%3D%3D?line=1'>2</a>\u001b[0m test_suma_dos_positivos(__main__\u001b[39m.\u001b[39mCajaNegraTest)\n\u001b[0;32m      <a href='vscode-notebook-cell:/d%3A/Documents/LAGRP%20Soft/Python/Python-Prep/M09_errorhandling/errorhandling.ipynb#W3sZmlsZQ%3D%3D?line=2'>3</a>\u001b[0m test_suma_dos_negativos(__main__\u001b[39m.\u001b[39mCajaNegraTest)\n",
      "\u001b[1;31mNameError\u001b[0m: name 'test_suma_dos_positivos' is not defined"
     ]
    }
   ],
   "source": [
    "unittest.main(argv=[\"\"],verbosity=2,exit=False)\n",
    "test_suma_dos_positivos(__main__.CajaNegraTest)\n",
    "test_suma_dos_negativos(__main__.CajaNegraTest)\n"
   ]
  },
  {
   "cell_type": "code",
   "execution_count": 1,
   "metadata": {},
   "outputs": [
    {
     "ename": "NameError",
     "evalue": "name 'unittest' is not defined",
     "output_type": "error",
     "traceback": [
      "\u001b[1;31m---------------------------------------------------------------------------\u001b[0m",
      "\u001b[1;31mNameError\u001b[0m                                 Traceback (most recent call last)",
      "\u001b[1;32md:\\Documents\\LAGRP Soft\\Python\\Python-Prep\\M09_errorhandling\\errorhandling.ipynb Cell 5\u001b[0m line \u001b[0;36m1\n\u001b[1;32m----> <a href='vscode-notebook-cell:/d%3A/Documents/LAGRP%20Soft/Python/Python-Prep/M09_errorhandling/errorhandling.ipynb#W4sZmlsZQ%3D%3D?line=0'>1</a>\u001b[0m \u001b[39mclass\u001b[39;00m \u001b[39mPruebaDeCristalTest\u001b[39;00m(unittest\u001b[39m.\u001b[39mTestCase):\n\u001b[0;32m      <a href='vscode-notebook-cell:/d%3A/Documents/LAGRP%20Soft/Python/Python-Prep/M09_errorhandling/errorhandling.ipynb#W4sZmlsZQ%3D%3D?line=2'>3</a>\u001b[0m     \u001b[39mdef\u001b[39;00m \u001b[39mtest_es_mayor_de_edad\u001b[39m(\u001b[39mself\u001b[39m):\n\u001b[0;32m      <a href='vscode-notebook-cell:/d%3A/Documents/LAGRP%20Soft/Python/Python-Prep/M09_errorhandling/errorhandling.ipynb#W4sZmlsZQ%3D%3D?line=3'>4</a>\u001b[0m         edad \u001b[39m=\u001b[39m \u001b[39m20\u001b[39m\n",
      "\u001b[1;31mNameError\u001b[0m: name 'unittest' is not defined"
     ]
    }
   ],
   "source": [
    "class PruebaDeCristalTest(unittest.TestCase):\n",
    "\n",
    "    def test_es_mayor_de_edad(self):\n",
    "        edad = 20\n",
    "\n",
    "        resultado = es_mayor_de_edad(edad)\n",
    "\n",
    "        self.assertEqual(resultado, True)\n",
    "\n",
    "    def test_es_menor_de_edad(self):\n",
    "        edad = 15\n",
    "\n",
    "        resultado = es_mayor_de_edad(edad)\n",
    "\n",
    "        self.assertEqual(resultado, False)"
   ]
  },
  {
   "cell_type": "code",
   "execution_count": 2,
   "metadata": {},
   "outputs": [],
   "source": [
    "def multiplica_por_dos(lista):\n",
    "    lista_multiplicada = []\n",
    "    for num in lista:\n",
    "        lista_multiplicada.append(num * 2)\n",
    "    return lista_multiplicada"
   ]
  },
  {
   "cell_type": "code",
   "execution_count": 3,
   "metadata": {},
   "outputs": [],
   "source": [
    "def divide_elementos_de_lista(lista, divisor):\n",
    "    '''\n",
    "    Cada elemento de una lista es dividida por un divisor definido.\n",
    "    En caso de error de tipo ZeroDivisionError que\n",
    "    significa error al dividir en cero\n",
    "    la función devuelve la lista inicial\n",
    "    '''\n",
    "\n",
    "    try:\n",
    "        return [i / divisor for i in lista]\n",
    "\n",
    "    except ZeroDivisionError as e:\n",
    "        print(e)\n",
    "        return lista"
   ]
  },
  {
   "cell_type": "code",
   "execution_count": 4,
   "metadata": {},
   "outputs": [],
   "source": [
    "def dividir(num1, num2):\n",
    "    try:\n",
    "        resultado = num1 / num2\n",
    "        return resultado\n",
    "    except ZeroDivisionError:\n",
    "        print(\"No se puede dividir por cero.\")\n",
    "        return None"
   ]
  },
  {
   "cell_type": "code",
   "execution_count": 6,
   "metadata": {},
   "outputs": [
    {
     "name": "stdout",
     "output_type": "stream",
     "text": [
      "No se puede dividir por cero.\n"
     ]
    }
   ],
   "source": [
    "dividir(2,0)"
   ]
  },
  {
   "cell_type": "code",
   "execution_count": 5,
   "metadata": {},
   "outputs": [
    {
     "name": "stdout",
     "output_type": "stream",
     "text": [
      "El archivo no existe.\n"
     ]
    }
   ],
   "source": [
    "try:\n",
    "    with open(\"archivo.txt\", \"r\") as f:\n",
    "        contenido = f.read()\n",
    "except FileNotFoundError:\n",
    "    print(\"El archivo no existe.\")"
   ]
  },
  {
   "cell_type": "code",
   "execution_count": 7,
   "metadata": {},
   "outputs": [],
   "source": [
    "def primera_letra(lista_de_palabras):\n",
    "  primeras_letras = []\n",
    "\n",
    "  for palabra in lista_de_palabras:\n",
    "    assert type(palabra) == str, f'{palabra} no es str'\n",
    "    assert len(palabra) > 0, 'No se permiten str vacíos'\n",
    "\n",
    "    primeras_letras.append(palabra[0])\n",
    "  return primeras_letras"
   ]
  },
  {
   "cell_type": "code",
   "execution_count": 8,
   "metadata": {},
   "outputs": [
    {
     "ename": "AssertionError",
     "evalue": "No se permiten str vacíos",
     "output_type": "error",
     "traceback": [
      "\u001b[1;31m---------------------------------------------------------------------------\u001b[0m",
      "\u001b[1;31mAssertionError\u001b[0m                            Traceback (most recent call last)",
      "\u001b[1;32md:\\Documents\\LAGRP Soft\\Python\\Python-Prep\\M09_errorhandling\\errorhandling.ipynb Cell 12\u001b[0m line \u001b[0;36m2\n\u001b[0;32m      <a href='vscode-notebook-cell:/d%3A/Documents/LAGRP%20Soft/Python/Python-Prep/M09_errorhandling/errorhandling.ipynb#X15sZmlsZQ%3D%3D?line=0'>1</a>\u001b[0m palabras\u001b[39m=\u001b[39m[\u001b[39m'\u001b[39m\u001b[39mhola\u001b[39m\u001b[39m'\u001b[39m,\u001b[39m'\u001b[39m\u001b[39mmundo\u001b[39m\u001b[39m'\u001b[39m,\u001b[39m'\u001b[39m\u001b[39m'\u001b[39m,\u001b[39m42\u001b[39m]\n\u001b[1;32m----> <a href='vscode-notebook-cell:/d%3A/Documents/LAGRP%20Soft/Python/Python-Prep/M09_errorhandling/errorhandling.ipynb#X15sZmlsZQ%3D%3D?line=1'>2</a>\u001b[0m primera_letra(palabras)\n",
      "\u001b[1;32md:\\Documents\\LAGRP Soft\\Python\\Python-Prep\\M09_errorhandling\\errorhandling.ipynb Cell 12\u001b[0m line \u001b[0;36m6\n\u001b[0;32m      <a href='vscode-notebook-cell:/d%3A/Documents/LAGRP%20Soft/Python/Python-Prep/M09_errorhandling/errorhandling.ipynb#X15sZmlsZQ%3D%3D?line=3'>4</a>\u001b[0m \u001b[39mfor\u001b[39;00m palabra \u001b[39min\u001b[39;00m lista_de_palabras:\n\u001b[0;32m      <a href='vscode-notebook-cell:/d%3A/Documents/LAGRP%20Soft/Python/Python-Prep/M09_errorhandling/errorhandling.ipynb#X15sZmlsZQ%3D%3D?line=4'>5</a>\u001b[0m   \u001b[39massert\u001b[39;00m \u001b[39mtype\u001b[39m(palabra) \u001b[39m==\u001b[39m \u001b[39mstr\u001b[39m, \u001b[39mf\u001b[39m\u001b[39m'\u001b[39m\u001b[39m{\u001b[39;00mpalabra\u001b[39m}\u001b[39;00m\u001b[39m no es str\u001b[39m\u001b[39m'\u001b[39m\n\u001b[1;32m----> <a href='vscode-notebook-cell:/d%3A/Documents/LAGRP%20Soft/Python/Python-Prep/M09_errorhandling/errorhandling.ipynb#X15sZmlsZQ%3D%3D?line=5'>6</a>\u001b[0m   \u001b[39massert\u001b[39;00m \u001b[39mlen\u001b[39m(palabra) \u001b[39m>\u001b[39m \u001b[39m0\u001b[39m, \u001b[39m'\u001b[39m\u001b[39mNo se permiten str vacíos\u001b[39m\u001b[39m'\u001b[39m\n\u001b[0;32m      <a href='vscode-notebook-cell:/d%3A/Documents/LAGRP%20Soft/Python/Python-Prep/M09_errorhandling/errorhandling.ipynb#X15sZmlsZQ%3D%3D?line=7'>8</a>\u001b[0m   primeras_letras\u001b[39m.\u001b[39mappend(palabra[\u001b[39m0\u001b[39m])\n\u001b[0;32m      <a href='vscode-notebook-cell:/d%3A/Documents/LAGRP%20Soft/Python/Python-Prep/M09_errorhandling/errorhandling.ipynb#X15sZmlsZQ%3D%3D?line=8'>9</a>\u001b[0m \u001b[39mreturn\u001b[39;00m primeras_letras\n",
      "\u001b[1;31mAssertionError\u001b[0m: No se permiten str vacíos"
     ]
    }
   ],
   "source": [
    "palabras=['hola','mundo','',42]\n",
    "primera_letra(palabras)"
   ]
  }
 ],
 "metadata": {
  "kernelspec": {
   "display_name": "Python 3",
   "language": "python",
   "name": "python3"
  },
  "language_info": {
   "codemirror_mode": {
    "name": "ipython",
    "version": 3
   },
   "file_extension": ".py",
   "mimetype": "text/x-python",
   "name": "python",
   "nbconvert_exporter": "python",
   "pygments_lexer": "ipython3",
   "version": "3.11.5"
  },
  "orig_nbformat": 4
 },
 "nbformat": 4,
 "nbformat_minor": 2
}
